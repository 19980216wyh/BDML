{
  "nbformat": 4,
  "nbformat_minor": 0,
  "metadata": {
    "kernelspec": {
      "display_name": "Python 3",
      "language": "python",
      "name": "python3"
    },
    "language_info": {
      "codemirror_mode": {
        "name": "ipython",
        "version": 3
      },
      "file_extension": ".py",
      "mimetype": "text/x-python",
      "name": "python",
      "nbconvert_exporter": "python",
      "pygments_lexer": "ipython3",
      "version": "3.7.3"
    },
    "colab": {
      "name": "case-study-cars.ipynb",
      "provenance": []
    }
  },
  "cells": [
    {
      "cell_type": "code",
      "metadata": {
        "id": "dCcgKRS15OGf"
      },
      "source": [
        "import pandas as pd\n",
        "import copy\n",
        "import numpy as np\n",
        "from sklearn.ensemble import RandomForestRegressor\n",
        "from sklearn.feature_selection import SelectFromModel\n",
        "from sklearn.preprocessing import MinMaxScaler\n",
        "from sklearn.neural_network import MLPRegressor\n",
        "from sklearn.metrics import mean_squared_error\n",
        "from sklearn.linear_model import LinearRegression\n",
        "%matplotlib notebook\n",
        "import matplotlib.pyplot as plt\n",
        "import seaborn as sns"
      ],
      "execution_count": null,
      "outputs": []
    },
    {
      "cell_type": "code",
      "metadata": {
        "id": "OIGRAZRL5OGl",
        "colab": {
          "base_uri": "https://localhost:8080/",
          "height": 195
        },
        "outputId": "d5d7f2d4-e347-44de-cfa0-9d174e6e6237"
      },
      "source": [
        "cars_data =pd.read_excel('https://github.com/tleitch/BDML/blob/main/Car%20Pricing%20with%20NN/Cars_Data_full.xlsx?raw=true')  \n",
        "NN_data=copy.deepcopy(cars_data)\n",
        "cars_data.head()"
      ],
      "execution_count": null,
      "outputs": [
        {
          "output_type": "execute_result",
          "data": {
            "text/html": [
              "<div>\n",
              "<style scoped>\n",
              "    .dataframe tbody tr th:only-of-type {\n",
              "        vertical-align: middle;\n",
              "    }\n",
              "\n",
              "    .dataframe tbody tr th {\n",
              "        vertical-align: top;\n",
              "    }\n",
              "\n",
              "    .dataframe thead th {\n",
              "        text-align: right;\n",
              "    }\n",
              "</style>\n",
              "<table border=\"1\" class=\"dataframe\">\n",
              "  <thead>\n",
              "    <tr style=\"text-align: right;\">\n",
              "      <th></th>\n",
              "      <th>Price</th>\n",
              "      <th>Age</th>\n",
              "      <th>KM</th>\n",
              "      <th>Fuel</th>\n",
              "      <th>HP</th>\n",
              "      <th>MC</th>\n",
              "      <th>Color</th>\n",
              "      <th>Auto</th>\n",
              "      <th>CC</th>\n",
              "      <th>Drs</th>\n",
              "      <th>Cyl</th>\n",
              "      <th>Grs</th>\n",
              "      <th>Wght</th>\n",
              "      <th>G_P</th>\n",
              "      <th>Mfr_G</th>\n",
              "      <th>ABS</th>\n",
              "      <th>Abag_1</th>\n",
              "      <th>Abag_2</th>\n",
              "      <th>AC</th>\n",
              "      <th>Comp</th>\n",
              "      <th>CD</th>\n",
              "      <th>Clock</th>\n",
              "      <th>Pwin</th>\n",
              "      <th>PStr</th>\n",
              "      <th>Radio</th>\n",
              "      <th>SpM</th>\n",
              "      <th>M_Rim</th>\n",
              "      <th>Tow_Bar</th>\n",
              "    </tr>\n",
              "  </thead>\n",
              "  <tbody>\n",
              "    <tr>\n",
              "      <th>0</th>\n",
              "      <td>21000</td>\n",
              "      <td>26</td>\n",
              "      <td>31463</td>\n",
              "      <td>Petrol</td>\n",
              "      <td>195</td>\n",
              "      <td>0</td>\n",
              "      <td>Silver</td>\n",
              "      <td>0</td>\n",
              "      <td>1800</td>\n",
              "      <td>3</td>\n",
              "      <td>3</td>\n",
              "      <td>6</td>\n",
              "      <td>1189</td>\n",
              "      <td>10</td>\n",
              "      <td>1</td>\n",
              "      <td>1</td>\n",
              "      <td>1</td>\n",
              "      <td>1</td>\n",
              "      <td>1</td>\n",
              "      <td>0</td>\n",
              "      <td>1</td>\n",
              "      <td>1</td>\n",
              "      <td>1</td>\n",
              "      <td>1</td>\n",
              "      <td>0</td>\n",
              "      <td>0</td>\n",
              "      <td>1</td>\n",
              "      <td>0</td>\n",
              "    </tr>\n",
              "    <tr>\n",
              "      <th>1</th>\n",
              "      <td>20000</td>\n",
              "      <td>23</td>\n",
              "      <td>43612</td>\n",
              "      <td>Petrol</td>\n",
              "      <td>195</td>\n",
              "      <td>0</td>\n",
              "      <td>Red</td>\n",
              "      <td>0</td>\n",
              "      <td>1800</td>\n",
              "      <td>3</td>\n",
              "      <td>3</td>\n",
              "      <td>6</td>\n",
              "      <td>1189</td>\n",
              "      <td>4</td>\n",
              "      <td>1</td>\n",
              "      <td>1</td>\n",
              "      <td>1</td>\n",
              "      <td>1</td>\n",
              "      <td>1</td>\n",
              "      <td>1</td>\n",
              "      <td>0</td>\n",
              "      <td>1</td>\n",
              "      <td>1</td>\n",
              "      <td>1</td>\n",
              "      <td>0</td>\n",
              "      <td>1</td>\n",
              "      <td>1</td>\n",
              "      <td>0</td>\n",
              "    </tr>\n",
              "    <tr>\n",
              "      <th>2</th>\n",
              "      <td>19650</td>\n",
              "      <td>26</td>\n",
              "      <td>32191</td>\n",
              "      <td>Petrol</td>\n",
              "      <td>195</td>\n",
              "      <td>0</td>\n",
              "      <td>Red</td>\n",
              "      <td>0</td>\n",
              "      <td>1800</td>\n",
              "      <td>3</td>\n",
              "      <td>3</td>\n",
              "      <td>6</td>\n",
              "      <td>1189</td>\n",
              "      <td>4</td>\n",
              "      <td>1</td>\n",
              "      <td>1</td>\n",
              "      <td>1</td>\n",
              "      <td>1</td>\n",
              "      <td>1</td>\n",
              "      <td>1</td>\n",
              "      <td>0</td>\n",
              "      <td>1</td>\n",
              "      <td>1</td>\n",
              "      <td>1</td>\n",
              "      <td>0</td>\n",
              "      <td>1</td>\n",
              "      <td>1</td>\n",
              "      <td>0</td>\n",
              "    </tr>\n",
              "    <tr>\n",
              "      <th>3</th>\n",
              "      <td>21550</td>\n",
              "      <td>32</td>\n",
              "      <td>23002</td>\n",
              "      <td>Petrol</td>\n",
              "      <td>195</td>\n",
              "      <td>1</td>\n",
              "      <td>Black</td>\n",
              "      <td>0</td>\n",
              "      <td>1800</td>\n",
              "      <td>3</td>\n",
              "      <td>3</td>\n",
              "      <td>6</td>\n",
              "      <td>1189</td>\n",
              "      <td>4</td>\n",
              "      <td>1</td>\n",
              "      <td>1</td>\n",
              "      <td>1</td>\n",
              "      <td>1</td>\n",
              "      <td>1</td>\n",
              "      <td>1</td>\n",
              "      <td>1</td>\n",
              "      <td>1</td>\n",
              "      <td>1</td>\n",
              "      <td>1</td>\n",
              "      <td>0</td>\n",
              "      <td>1</td>\n",
              "      <td>1</td>\n",
              "      <td>0</td>\n",
              "    </tr>\n",
              "    <tr>\n",
              "      <th>4</th>\n",
              "      <td>22550</td>\n",
              "      <td>33</td>\n",
              "      <td>34133</td>\n",
              "      <td>Petrol</td>\n",
              "      <td>195</td>\n",
              "      <td>1</td>\n",
              "      <td>Grey</td>\n",
              "      <td>0</td>\n",
              "      <td>1800</td>\n",
              "      <td>3</td>\n",
              "      <td>3</td>\n",
              "      <td>6</td>\n",
              "      <td>1189</td>\n",
              "      <td>4</td>\n",
              "      <td>1</td>\n",
              "      <td>1</td>\n",
              "      <td>1</td>\n",
              "      <td>1</td>\n",
              "      <td>1</td>\n",
              "      <td>1</td>\n",
              "      <td>1</td>\n",
              "      <td>1</td>\n",
              "      <td>1</td>\n",
              "      <td>1</td>\n",
              "      <td>0</td>\n",
              "      <td>1</td>\n",
              "      <td>1</td>\n",
              "      <td>0</td>\n",
              "    </tr>\n",
              "  </tbody>\n",
              "</table>\n",
              "</div>"
            ],
            "text/plain": [
              "   Price  Age     KM    Fuel   HP  MC  ... Pwin  PStr  Radio  SpM  M_Rim  Tow_Bar\n",
              "0  21000   26  31463  Petrol  195   0  ...    1     1      0    0      1        0\n",
              "1  20000   23  43612  Petrol  195   0  ...    1     1      0    1      1        0\n",
              "2  19650   26  32191  Petrol  195   0  ...    1     1      0    1      1        0\n",
              "3  21550   32  23002  Petrol  195   1  ...    1     1      0    1      1        0\n",
              "4  22550   33  34133  Petrol  195   1  ...    1     1      0    1      1        0\n",
              "\n",
              "[5 rows x 28 columns]"
            ]
          },
          "metadata": {
            "tags": []
          },
          "execution_count": 2
        }
      ]
    },
    {
      "cell_type": "code",
      "metadata": {
        "id": "CqRdaltB5OGm"
      },
      "source": [
        "Sample_Size = cars_data.shape[0]\n",
        "Num_features = cars_data.shape[1]"
      ],
      "execution_count": null,
      "outputs": []
    },
    {
      "cell_type": "code",
      "metadata": {
        "id": "Smfdb_PZ5OGn",
        "colab": {
          "base_uri": "https://localhost:8080/"
        },
        "outputId": "06af9cd8-c370-4cb6-bf1d-11c0138bc1ce"
      },
      "source": [
        "NN_data.columns"
      ],
      "execution_count": null,
      "outputs": [
        {
          "output_type": "execute_result",
          "data": {
            "text/plain": [
              "Index(['Price', 'Age', 'KM', 'Fuel', 'HP', 'MC', 'Color', 'Auto', 'CC', 'Drs',\n",
              "       'Cyl', 'Grs', 'Wght', 'G_P', 'Mfr_G', 'ABS', 'Abag_1', 'Abag_2', 'AC',\n",
              "       'Comp', 'CD', 'Clock', 'Pwin', 'PStr', 'Radio', 'SpM', 'M_Rim',\n",
              "       'Tow_Bar'],\n",
              "      dtype='object')"
            ]
          },
          "metadata": {
            "tags": []
          },
          "execution_count": 4
        }
      ]
    },
    {
      "cell_type": "code",
      "metadata": {
        "id": "lEgM85J65OGn"
      },
      "source": [
        "NN_data.drop([\"Cyl\"],axis=1,inplace=True)"
      ],
      "execution_count": null,
      "outputs": []
    },
    {
      "cell_type": "code",
      "metadata": {
        "id": "b4lJAhOl5OGn"
      },
      "source": [
        "NN_data[\"Color\"] = NN_data[\"Color\"].astype(\"category\")\n",
        "NN_data[\"Grs\"] = NN_data[\"Grs\"].astype(\"category\")\n",
        "NN_data[\"Drs\"] = NN_data[\"Drs\"].astype(\"category\")\n",
        "NN_data = pd.get_dummies(NN_data)"
      ],
      "execution_count": null,
      "outputs": []
    },
    {
      "cell_type": "code",
      "metadata": {
        "id": "i8AaSqo_lD00",
        "colab": {
          "base_uri": "https://localhost:8080/",
          "height": 215
        },
        "outputId": "97d34dc9-c418-4cc4-c82e-a8fdbd47e62b"
      },
      "source": [
        "NN_data.head()"
      ],
      "execution_count": null,
      "outputs": [
        {
          "output_type": "execute_result",
          "data": {
            "text/html": [
              "<div>\n",
              "<style scoped>\n",
              "    .dataframe tbody tr th:only-of-type {\n",
              "        vertical-align: middle;\n",
              "    }\n",
              "\n",
              "    .dataframe tbody tr th {\n",
              "        vertical-align: top;\n",
              "    }\n",
              "\n",
              "    .dataframe thead th {\n",
              "        text-align: right;\n",
              "    }\n",
              "</style>\n",
              "<table border=\"1\" class=\"dataframe\">\n",
              "  <thead>\n",
              "    <tr style=\"text-align: right;\">\n",
              "      <th></th>\n",
              "      <th>Price</th>\n",
              "      <th>Age</th>\n",
              "      <th>KM</th>\n",
              "      <th>HP</th>\n",
              "      <th>MC</th>\n",
              "      <th>Auto</th>\n",
              "      <th>CC</th>\n",
              "      <th>Wght</th>\n",
              "      <th>G_P</th>\n",
              "      <th>Mfr_G</th>\n",
              "      <th>ABS</th>\n",
              "      <th>Abag_1</th>\n",
              "      <th>Abag_2</th>\n",
              "      <th>AC</th>\n",
              "      <th>Comp</th>\n",
              "      <th>CD</th>\n",
              "      <th>Clock</th>\n",
              "      <th>Pwin</th>\n",
              "      <th>PStr</th>\n",
              "      <th>Radio</th>\n",
              "      <th>SpM</th>\n",
              "      <th>M_Rim</th>\n",
              "      <th>Tow_Bar</th>\n",
              "      <th>Fuel_Diesel</th>\n",
              "      <th>Fuel_Petrol</th>\n",
              "      <th>Color_Black</th>\n",
              "      <th>Color_Blue</th>\n",
              "      <th>Color_Green</th>\n",
              "      <th>Color_Grey</th>\n",
              "      <th>Color_Red</th>\n",
              "      <th>Color_Silver</th>\n",
              "      <th>Color_White</th>\n",
              "      <th>Color_Yellow</th>\n",
              "      <th>Drs_2</th>\n",
              "      <th>Drs_3</th>\n",
              "      <th>Drs_4</th>\n",
              "      <th>Drs_5</th>\n",
              "      <th>Grs_3</th>\n",
              "      <th>Grs_4</th>\n",
              "      <th>Grs_5</th>\n",
              "      <th>Grs_6</th>\n",
              "    </tr>\n",
              "  </thead>\n",
              "  <tbody>\n",
              "    <tr>\n",
              "      <th>0</th>\n",
              "      <td>21000</td>\n",
              "      <td>26</td>\n",
              "      <td>31463</td>\n",
              "      <td>195</td>\n",
              "      <td>0</td>\n",
              "      <td>0</td>\n",
              "      <td>1800</td>\n",
              "      <td>1189</td>\n",
              "      <td>10</td>\n",
              "      <td>1</td>\n",
              "      <td>1</td>\n",
              "      <td>1</td>\n",
              "      <td>1</td>\n",
              "      <td>1</td>\n",
              "      <td>0</td>\n",
              "      <td>1</td>\n",
              "      <td>1</td>\n",
              "      <td>1</td>\n",
              "      <td>1</td>\n",
              "      <td>0</td>\n",
              "      <td>0</td>\n",
              "      <td>1</td>\n",
              "      <td>0</td>\n",
              "      <td>0</td>\n",
              "      <td>1</td>\n",
              "      <td>0</td>\n",
              "      <td>0</td>\n",
              "      <td>0</td>\n",
              "      <td>0</td>\n",
              "      <td>0</td>\n",
              "      <td>1</td>\n",
              "      <td>0</td>\n",
              "      <td>0</td>\n",
              "      <td>0</td>\n",
              "      <td>1</td>\n",
              "      <td>0</td>\n",
              "      <td>0</td>\n",
              "      <td>0</td>\n",
              "      <td>0</td>\n",
              "      <td>0</td>\n",
              "      <td>1</td>\n",
              "    </tr>\n",
              "    <tr>\n",
              "      <th>1</th>\n",
              "      <td>20000</td>\n",
              "      <td>23</td>\n",
              "      <td>43612</td>\n",
              "      <td>195</td>\n",
              "      <td>0</td>\n",
              "      <td>0</td>\n",
              "      <td>1800</td>\n",
              "      <td>1189</td>\n",
              "      <td>4</td>\n",
              "      <td>1</td>\n",
              "      <td>1</td>\n",
              "      <td>1</td>\n",
              "      <td>1</td>\n",
              "      <td>1</td>\n",
              "      <td>1</td>\n",
              "      <td>0</td>\n",
              "      <td>1</td>\n",
              "      <td>1</td>\n",
              "      <td>1</td>\n",
              "      <td>0</td>\n",
              "      <td>1</td>\n",
              "      <td>1</td>\n",
              "      <td>0</td>\n",
              "      <td>0</td>\n",
              "      <td>1</td>\n",
              "      <td>0</td>\n",
              "      <td>0</td>\n",
              "      <td>0</td>\n",
              "      <td>0</td>\n",
              "      <td>1</td>\n",
              "      <td>0</td>\n",
              "      <td>0</td>\n",
              "      <td>0</td>\n",
              "      <td>0</td>\n",
              "      <td>1</td>\n",
              "      <td>0</td>\n",
              "      <td>0</td>\n",
              "      <td>0</td>\n",
              "      <td>0</td>\n",
              "      <td>0</td>\n",
              "      <td>1</td>\n",
              "    </tr>\n",
              "    <tr>\n",
              "      <th>2</th>\n",
              "      <td>19650</td>\n",
              "      <td>26</td>\n",
              "      <td>32191</td>\n",
              "      <td>195</td>\n",
              "      <td>0</td>\n",
              "      <td>0</td>\n",
              "      <td>1800</td>\n",
              "      <td>1189</td>\n",
              "      <td>4</td>\n",
              "      <td>1</td>\n",
              "      <td>1</td>\n",
              "      <td>1</td>\n",
              "      <td>1</td>\n",
              "      <td>1</td>\n",
              "      <td>1</td>\n",
              "      <td>0</td>\n",
              "      <td>1</td>\n",
              "      <td>1</td>\n",
              "      <td>1</td>\n",
              "      <td>0</td>\n",
              "      <td>1</td>\n",
              "      <td>1</td>\n",
              "      <td>0</td>\n",
              "      <td>0</td>\n",
              "      <td>1</td>\n",
              "      <td>0</td>\n",
              "      <td>0</td>\n",
              "      <td>0</td>\n",
              "      <td>0</td>\n",
              "      <td>1</td>\n",
              "      <td>0</td>\n",
              "      <td>0</td>\n",
              "      <td>0</td>\n",
              "      <td>0</td>\n",
              "      <td>1</td>\n",
              "      <td>0</td>\n",
              "      <td>0</td>\n",
              "      <td>0</td>\n",
              "      <td>0</td>\n",
              "      <td>0</td>\n",
              "      <td>1</td>\n",
              "    </tr>\n",
              "    <tr>\n",
              "      <th>3</th>\n",
              "      <td>21550</td>\n",
              "      <td>32</td>\n",
              "      <td>23002</td>\n",
              "      <td>195</td>\n",
              "      <td>1</td>\n",
              "      <td>0</td>\n",
              "      <td>1800</td>\n",
              "      <td>1189</td>\n",
              "      <td>4</td>\n",
              "      <td>1</td>\n",
              "      <td>1</td>\n",
              "      <td>1</td>\n",
              "      <td>1</td>\n",
              "      <td>1</td>\n",
              "      <td>1</td>\n",
              "      <td>1</td>\n",
              "      <td>1</td>\n",
              "      <td>1</td>\n",
              "      <td>1</td>\n",
              "      <td>0</td>\n",
              "      <td>1</td>\n",
              "      <td>1</td>\n",
              "      <td>0</td>\n",
              "      <td>0</td>\n",
              "      <td>1</td>\n",
              "      <td>1</td>\n",
              "      <td>0</td>\n",
              "      <td>0</td>\n",
              "      <td>0</td>\n",
              "      <td>0</td>\n",
              "      <td>0</td>\n",
              "      <td>0</td>\n",
              "      <td>0</td>\n",
              "      <td>0</td>\n",
              "      <td>1</td>\n",
              "      <td>0</td>\n",
              "      <td>0</td>\n",
              "      <td>0</td>\n",
              "      <td>0</td>\n",
              "      <td>0</td>\n",
              "      <td>1</td>\n",
              "    </tr>\n",
              "    <tr>\n",
              "      <th>4</th>\n",
              "      <td>22550</td>\n",
              "      <td>33</td>\n",
              "      <td>34133</td>\n",
              "      <td>195</td>\n",
              "      <td>1</td>\n",
              "      <td>0</td>\n",
              "      <td>1800</td>\n",
              "      <td>1189</td>\n",
              "      <td>4</td>\n",
              "      <td>1</td>\n",
              "      <td>1</td>\n",
              "      <td>1</td>\n",
              "      <td>1</td>\n",
              "      <td>1</td>\n",
              "      <td>1</td>\n",
              "      <td>1</td>\n",
              "      <td>1</td>\n",
              "      <td>1</td>\n",
              "      <td>1</td>\n",
              "      <td>0</td>\n",
              "      <td>1</td>\n",
              "      <td>1</td>\n",
              "      <td>0</td>\n",
              "      <td>0</td>\n",
              "      <td>1</td>\n",
              "      <td>0</td>\n",
              "      <td>0</td>\n",
              "      <td>0</td>\n",
              "      <td>1</td>\n",
              "      <td>0</td>\n",
              "      <td>0</td>\n",
              "      <td>0</td>\n",
              "      <td>0</td>\n",
              "      <td>0</td>\n",
              "      <td>1</td>\n",
              "      <td>0</td>\n",
              "      <td>0</td>\n",
              "      <td>0</td>\n",
              "      <td>0</td>\n",
              "      <td>0</td>\n",
              "      <td>1</td>\n",
              "    </tr>\n",
              "  </tbody>\n",
              "</table>\n",
              "</div>"
            ],
            "text/plain": [
              "   Price  Age     KM   HP  MC  Auto  ...  Drs_4  Drs_5  Grs_3  Grs_4  Grs_5  Grs_6\n",
              "0  21000   26  31463  195   0     0  ...      0      0      0      0      0      1\n",
              "1  20000   23  43612  195   0     0  ...      0      0      0      0      0      1\n",
              "2  19650   26  32191  195   0     0  ...      0      0      0      0      0      1\n",
              "3  21550   32  23002  195   1     0  ...      0      0      0      0      0      1\n",
              "4  22550   33  34133  195   1     0  ...      0      0      0      0      0      1\n",
              "\n",
              "[5 rows x 41 columns]"
            ]
          },
          "metadata": {
            "tags": []
          },
          "execution_count": 7
        }
      ]
    },
    {
      "cell_type": "code",
      "metadata": {
        "id": "j5QbJNX8mKjC"
      },
      "source": [
        ""
      ],
      "execution_count": null,
      "outputs": []
    },
    {
      "cell_type": "code",
      "metadata": {
        "id": "ItOLwZBclRJk"
      },
      "source": [
        ""
      ],
      "execution_count": null,
      "outputs": []
    },
    {
      "cell_type": "code",
      "metadata": {
        "id": "L0bhp3vS5OGo",
        "colab": {
          "base_uri": "https://localhost:8080/"
        },
        "outputId": "cce8645a-afb9-4607-b285-16f0b936d6b1"
      },
      "source": [
        "NN_data.columns"
      ],
      "execution_count": null,
      "outputs": [
        {
          "output_type": "execute_result",
          "data": {
            "text/plain": [
              "Index(['Price', 'Age', 'KM', 'HP', 'MC', 'Auto', 'CC', 'Wght', 'G_P', 'Mfr_G',\n",
              "       'ABS', 'Abag_1', 'Abag_2', 'AC', 'Comp', 'CD', 'Clock', 'Pwin', 'PStr',\n",
              "       'Radio', 'SpM', 'M_Rim', 'Tow_Bar', 'Fuel_Diesel', 'Fuel_Petrol',\n",
              "       'Color_Black', 'Color_Blue', 'Color_Green', 'Color_Grey', 'Color_Red',\n",
              "       'Color_Silver', 'Color_White', 'Color_Yellow', 'Drs_2', 'Drs_3',\n",
              "       'Drs_4', 'Drs_5', 'Grs_3', 'Grs_4', 'Grs_5', 'Grs_6'],\n",
              "      dtype='object')"
            ]
          },
          "metadata": {
            "tags": []
          },
          "execution_count": 8
        }
      ]
    },
    {
      "cell_type": "code",
      "metadata": {
        "id": "cVlvBxww5OGo",
        "colab": {
          "base_uri": "https://localhost:8080/"
        },
        "outputId": "6082f3f0-bc6b-4b57-f3c9-1e28e8bc139e"
      },
      "source": [
        "feature_columns = NN_data.columns[1:]\n",
        "target_column = NN_data.columns[0]\n",
        "print(feature_columns)"
      ],
      "execution_count": null,
      "outputs": [
        {
          "output_type": "stream",
          "text": [
            "Index(['Age', 'KM', 'HP', 'MC', 'Auto', 'CC', 'Wght', 'G_P', 'Mfr_G', 'ABS',\n",
            "       'Abag_1', 'Abag_2', 'AC', 'Comp', 'CD', 'Clock', 'Pwin', 'PStr',\n",
            "       'Radio', 'SpM', 'M_Rim', 'Tow_Bar', 'Fuel_Diesel', 'Fuel_Petrol',\n",
            "       'Color_Black', 'Color_Blue', 'Color_Green', 'Color_Grey', 'Color_Red',\n",
            "       'Color_Silver', 'Color_White', 'Color_Yellow', 'Drs_2', 'Drs_3',\n",
            "       'Drs_4', 'Drs_5', 'Grs_3', 'Grs_4', 'Grs_5', 'Grs_6'],\n",
            "      dtype='object')\n"
          ],
          "name": "stdout"
        }
      ]
    },
    {
      "cell_type": "code",
      "metadata": {
        "id": "t62VrVdJ5OGo"
      },
      "source": [
        "X_train = NN_data[feature_columns]\n",
        "Y_train = NN_data[target_column]\n",
        "randomf = RandomForestRegressor(n_estimators=1000, max_depth=7, oob_score=True).fit(X_train, Y_train)"
      ],
      "execution_count": null,
      "outputs": []
    },
    {
      "cell_type": "code",
      "metadata": {
        "id": "rm19IlRK5OGo",
        "colab": {
          "base_uri": "https://localhost:8080/",
          "height": 343
        },
        "outputId": "6e0f932a-d014-4e05-b7d9-246cf832f67c"
      },
      "source": [
        "feature_importances = pd.DataFrame(randomf.feature_importances_,\n",
        "                                   index = feature_columns,\n",
        "                                    columns=['importance']).sort_values('importance', ascending=False).reset_index().rename(columns={'index':'feature'})\n",
        "feature_importances.head(10)"
      ],
      "execution_count": null,
      "outputs": [
        {
          "output_type": "execute_result",
          "data": {
            "text/html": [
              "<div>\n",
              "<style scoped>\n",
              "    .dataframe tbody tr th:only-of-type {\n",
              "        vertical-align: middle;\n",
              "    }\n",
              "\n",
              "    .dataframe tbody tr th {\n",
              "        vertical-align: top;\n",
              "    }\n",
              "\n",
              "    .dataframe thead th {\n",
              "        text-align: right;\n",
              "    }\n",
              "</style>\n",
              "<table border=\"1\" class=\"dataframe\">\n",
              "  <thead>\n",
              "    <tr style=\"text-align: right;\">\n",
              "      <th></th>\n",
              "      <th>feature</th>\n",
              "      <th>importance</th>\n",
              "    </tr>\n",
              "  </thead>\n",
              "  <tbody>\n",
              "    <tr>\n",
              "      <th>0</th>\n",
              "      <td>Age</td>\n",
              "      <td>0.867781</td>\n",
              "    </tr>\n",
              "    <tr>\n",
              "      <th>1</th>\n",
              "      <td>Wght</td>\n",
              "      <td>0.061349</td>\n",
              "    </tr>\n",
              "    <tr>\n",
              "      <th>2</th>\n",
              "      <td>KM</td>\n",
              "      <td>0.030887</td>\n",
              "    </tr>\n",
              "    <tr>\n",
              "      <th>3</th>\n",
              "      <td>HP</td>\n",
              "      <td>0.009866</td>\n",
              "    </tr>\n",
              "    <tr>\n",
              "      <th>4</th>\n",
              "      <td>CC</td>\n",
              "      <td>0.004805</td>\n",
              "    </tr>\n",
              "    <tr>\n",
              "      <th>5</th>\n",
              "      <td>M_Rim</td>\n",
              "      <td>0.004201</td>\n",
              "    </tr>\n",
              "    <tr>\n",
              "      <th>6</th>\n",
              "      <td>Pwin</td>\n",
              "      <td>0.003115</td>\n",
              "    </tr>\n",
              "    <tr>\n",
              "      <th>7</th>\n",
              "      <td>AC</td>\n",
              "      <td>0.002325</td>\n",
              "    </tr>\n",
              "    <tr>\n",
              "      <th>8</th>\n",
              "      <td>Clock</td>\n",
              "      <td>0.002101</td>\n",
              "    </tr>\n",
              "    <tr>\n",
              "      <th>9</th>\n",
              "      <td>Mfr_G</td>\n",
              "      <td>0.001767</td>\n",
              "    </tr>\n",
              "  </tbody>\n",
              "</table>\n",
              "</div>"
            ],
            "text/plain": [
              "  feature  importance\n",
              "0     Age    0.867781\n",
              "1    Wght    0.061349\n",
              "2      KM    0.030887\n",
              "3      HP    0.009866\n",
              "4      CC    0.004805\n",
              "5   M_Rim    0.004201\n",
              "6    Pwin    0.003115\n",
              "7      AC    0.002325\n",
              "8   Clock    0.002101\n",
              "9   Mfr_G    0.001767"
            ]
          },
          "metadata": {
            "tags": []
          },
          "execution_count": 11
        }
      ]
    },
    {
      "cell_type": "code",
      "metadata": {
        "id": "AMOIjP-g5OGp"
      },
      "source": [
        "new_columns = feature_importances[\"feature\"].iloc[0:10]\n",
        "NN_data_new = copy.deepcopy(NN_data)\n",
        "NN_data_new = NN_data_new[new_columns]\n",
        "NN_data_new[\"Price\"] = NN_data[\"Price\"]"
      ],
      "execution_count": null,
      "outputs": []
    },
    {
      "cell_type": "code",
      "metadata": {
        "id": "XEzoz3K65OGp",
        "colab": {
          "base_uri": "https://localhost:8080/",
          "height": 505
        },
        "outputId": "47de44a7-eb1a-420f-bcd5-faa73d49b52e"
      },
      "source": [
        "plt.figure(figsize=(8,8))\n",
        "sns.heatmap(NN_data_new.corr(),vmin=-1, vmax=1,annot=True)"
      ],
      "execution_count": null,
      "outputs": [
        {
          "output_type": "execute_result",
          "data": {
            "text/plain": [
              "<matplotlib.axes._subplots.AxesSubplot at 0x7f7bbfb22d90>"
            ]
          },
          "metadata": {
            "tags": []
          },
          "execution_count": 13
        },
        {
          "output_type": "display_data",
          "data": {
            "image/png": "[encoded data removed]",
            "text/plain": [
              "<Figure size 576x576 with 2 Axes>"
            ]
          },
          "metadata": {
            "tags": [],
            "needs_background": "light"
          }
        }
      ]
    },
    {
      "cell_type": "code",
      "metadata": {
        "id": "tiBOpqsQ5OGp",
        "colab": {
          "base_uri": "https://localhost:8080/"
        },
        "outputId": "205cba4d-7c8a-4350-e078-598083548ac0"
      },
      "source": [
        "def find_high_correlated_features(frame):\n",
        "    new_corr = frame.corr()\n",
        "    new_corr.loc[:,:] = np.tril(new_corr, k=-1) \n",
        "    new_corr = new_corr.stack()\n",
        "    print(new_corr[(new_corr > 0.80) | (new_corr < -0.80)])\n",
        "  \n",
        "    \n",
        "predictor = list(set(NN_data_new.columns.values))\n",
        "find_high_correlated_features(NN_data_new[predictor])"
      ],
      "execution_count": null,
      "outputs": [
        {
          "output_type": "stream",
          "text": [
            "Clock  Pwin     0.878686\n",
            "Age    Price   -0.874000\n",
            "dtype: float64\n"
          ],
          "name": "stdout"
        }
      ]
    },
    {
      "cell_type": "code",
      "metadata": {
        "id": "AJWIaUpu5OGq"
      },
      "source": [
        "NN_data_new.drop([\"Clock\"],axis=1,inplace=True)"
      ],
      "execution_count": null,
      "outputs": []
    },
    {
      "cell_type": "code",
      "metadata": {
        "id": "cn8pDKQb5OGq"
      },
      "source": [
        "scaler = MinMaxScaler()\n",
        "scaler.fit(NN_data_new)\n",
        "NN_data_scaled = copy.deepcopy(NN_data_new)\n",
        "NN_data_scaled = scaler.transform(NN_data_scaled)"
      ],
      "execution_count": null,
      "outputs": []
    },
    {
      "cell_type": "code",
      "metadata": {
        "id": "JGMCv8Wj5OGr"
      },
      "source": [
        "\n",
        "from sklearn.model_selection import train_test_split\n",
        "X_train, X_validation, y_train, y_validation = train_test_split(\n",
        "    NN_data_scaled[:,1:9], NN_data_scaled[:,0], test_size=0.6, random_state=42)\n",
        "training_size = len(y_validation)"
      ],
      "execution_count": null,
      "outputs": []
    },
    {
      "cell_type": "code",
      "metadata": {
        "id": "HEMe6BQA5OGr"
      },
      "source": [
        "def training_and_valuation(model):\n",
        "    \n",
        "    model.fit(X_train, y_train)\n",
        "    \n",
        "    print('Coefficient of determination score on training set  is {0:0.2%}'.format(model.score(X_train, y_train)))\n",
        "    print('Coefficient of determination score  on validation set  is {0:0.2%}'.format(model.score(X_validation, y_validation)))\n",
        "    \n",
        "    predicted_price_train = model.predict(X_train)\n",
        "    predicted_price_validation =  model.predict(X_validation)\n",
        "    print (\"mean squared error  in training data using scaled values: \" + str(mean_squared_error(y_train,predicted_price_train)))\n",
        "    print (\"mean squared error  in validation data using scaled values: \" + str(mean_squared_error(y_validation,predicted_price_validation)))\n",
        "    \n",
        "    #validation_copy=copy.deepcopy(validationset)\n",
        "    #validation_copy[:,9] = predicted_price_validation\n",
        "    #validation_copy[:,9] = pd.concat(X_validation,predicted_price_validation)\n",
        "    #validation_actual_values = scaler.inverse_transform(validation_copy)\n",
        "    \n",
        "    \n",
        "    #y_true = validation_actual_values[:,9]\n",
        "    #y_pred = NN_data_new[training_size:Sample_Size][\"Price\"].values\n",
        "    #print (\"mean absolute percentage error in validation data after invering the scaling operation: \" + str(np.mean(np.abs((y_true - y_pred) / y_true)) * 100))\n",
        "    #print (\"         \")\n",
        "    #print (\"distribution of predicted price values of validation set after inversing the scaling operation \")\n",
        "    #print (pd.DataFrame(validation_actual_values[:,9]).describe())\n",
        "    print (\"         \")\n",
        "    print (\"distribution of true price values of validation set: \")\n",
        "    print (NN_data_new[training_size:Sample_Size][\"Price\"].describe())\n",
        "    "
      ],
      "execution_count": null,
      "outputs": []
    },
    {
      "cell_type": "code",
      "metadata": {
        "id": "oJpAmC5p5OGr",
        "colab": {
          "base_uri": "https://localhost:8080/"
        },
        "outputId": "b34d9476-2d5f-46ea-e3b3-805ac99e0f06"
      },
      "source": [
        "model = MLPRegressor(hidden_layer_sizes=(3,3),random_state=1, max_iter=500)\n",
        "training_and_valuation(model)"
      ],
      "execution_count": null,
      "outputs": [
        {
          "output_type": "stream",
          "text": [
            "Coefficient of determination score on training set  is -12.90%\n",
            "Coefficient of determination score  on validation set  is -9.53%\n",
            "mean squared error  in training data using scaled values: 0.06368637099935527\n",
            "mean squared error  in validation data using scaled values: 0.06152466552901417\n",
            "         \n",
            "distribution of true price values of validation set: \n",
            "count      546.000000\n",
            "mean      8509.227106\n",
            "std       1293.493042\n",
            "min       4450.000000\n",
            "25%       7550.000000\n",
            "50%       8547.500000\n",
            "75%       9300.000000\n",
            "max      13000.000000\n",
            "Name: Price, dtype: float64\n"
          ],
          "name": "stdout"
        }
      ]
    },
    {
      "cell_type": "code",
      "metadata": {
        "id": "kK851bcm5OGs",
        "colab": {
          "base_uri": "https://localhost:8080/"
        },
        "outputId": "ab8cf925-042e-4aa3-bb41-552a8bfb15ce"
      },
      "source": [
        "model = MLPRegressor(hidden_layer_sizes=(1000),random_state=5, max_iter=500)\n",
        "training_and_valuation(model)"
      ],
      "execution_count": null,
      "outputs": [
        {
          "output_type": "stream",
          "text": [
            "Coefficient of determination score on training set  is 56.47%\n",
            "Coefficient of determination score  on validation set  is 53.64%\n",
            "mean squared error  in training data using scaled values: 0.024555516018189304\n",
            "mean squared error  in validation data using scaled values: 0.026042345397973263\n",
            "         \n",
            "distribution of true price values of validation set: \n",
            "count      546.000000\n",
            "mean      8509.227106\n",
            "std       1293.493042\n",
            "min       4450.000000\n",
            "25%       7550.000000\n",
            "50%       8547.500000\n",
            "75%       9300.000000\n",
            "max      13000.000000\n",
            "Name: Price, dtype: float64\n"
          ],
          "name": "stdout"
        }
      ]
    },
    {
      "cell_type": "code",
      "metadata": {
        "id": "s5-stIyJ5OGs",
        "colab": {
          "base_uri": "https://localhost:8080/"
        },
        "outputId": "7e6fcb25-e557-4066-c69d-3a80f9ba4c17"
      },
      "source": [
        "linear_reg = LinearRegression()\n",
        "training_and_valuation(linear_reg)"
      ],
      "execution_count": null,
      "outputs": [
        {
          "output_type": "stream",
          "text": [
            "Coefficient of determination score on training set  is 49.26%\n",
            "Coefficient of determination score  on validation set  is 48.28%\n",
            "mean squared error  in training data using scaled values: 0.028621224599547048\n",
            "mean squared error  in validation data using scaled values: 0.02904904776549003\n",
            "         \n",
            "distribution of true price values of validation set: \n",
            "count      546.000000\n",
            "mean      8509.227106\n",
            "std       1293.493042\n",
            "min       4450.000000\n",
            "25%       7550.000000\n",
            "50%       8547.500000\n",
            "75%       9300.000000\n",
            "max      13000.000000\n",
            "Name: Price, dtype: float64\n"
          ],
          "name": "stdout"
        }
      ]
    },
    {
      "cell_type": "code",
      "metadata": {
        "id": "MOcPjFLY5OGs"
      },
      "source": [
        ""
      ],
      "execution_count": null,
      "outputs": []
    }
  ]
}